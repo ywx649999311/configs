{
 "cells": [
  {
   "cell_type": "markdown",
   "id": "7f79e710-f20a-4873-a612-82c7511e4043",
   "metadata": {},
   "source": [
    "## Feature Template\n",
    "- **Short Description:**\n",
    "- **Commit Hash:**\n",
    "- **Last Run:**"
   ]
  },
  {
   "cell_type": "code",
   "execution_count": 1,
   "id": "0f7e983c-d321-415c-98dc-b3c51c188fed",
   "metadata": {},
   "outputs": [],
   "source": [
    "%load_ext autoreload\n",
    "%autoreload 2\n",
    "\n",
    "import numpy as np\n",
    "import pandas as pd\n",
    "import matplotlib.pyplot as plt\n",
    "import matplotlib as mpl\n",
    "import os, sys\n",
    "%matplotlib inline"
   ]
  },
  {
   "cell_type": "code",
   "execution_count": null,
   "id": "c4f64bfc-f35a-4a34-9749-760da9b807b7",
   "metadata": {},
   "outputs": [],
   "source": []
  }
 ],
 "metadata": {
  "jupytext": {
   "notebook_metadata_filter": "-all"
  },
  "kernelspec": {
   "display_name": "EzTaoX_Dev",
   "language": "python",
   "name": "eztaox"
  },
  "language_info": {
   "codemirror_mode": {
    "name": "ipython",
    "version": 3
   },
   "file_extension": ".py",
   "mimetype": "text/x-python",
   "name": "python",
   "nbconvert_exporter": "python",
   "pygments_lexer": "ipython3",
   "version": "3.12.8"
  }
 },
 "nbformat": 4,
 "nbformat_minor": 5
}
