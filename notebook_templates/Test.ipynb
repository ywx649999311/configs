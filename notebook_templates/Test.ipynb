{
 "cells": [
  {
   "cell_type": "markdown",
   "id": "3960b09a-21a1-4511-adbb-e6a3a299654e",
   "metadata": {},
   "source": [
    "## Test Template\n",
    "- **Date:**"
   ]
  },
  {
   "cell_type": "code",
   "execution_count": null,
   "id": "156cfe07-4122-48b2-a584-2178ba8c7161",
   "metadata": {},
   "outputs": [],
   "source": []
  }
 ],
 "metadata": {
  "kernelspec": {
   "display_name": "Python 3 (ipykernel)",
   "language": "python",
   "name": "python3"
  },
  "language_info": {
   "codemirror_mode": {
    "name": "ipython",
    "version": 3
   },
   "file_extension": ".py",
   "mimetype": "text/x-python",
   "name": "python",
   "nbconvert_exporter": "python",
   "pygments_lexer": "ipython3",
   "version": "3.12.8"
  },
  "widgets": {
   "application/vnd.jupyter.widget-state+json": {
    "state": {},
    "version_major": 2,
    "version_minor": 0
   }
  }
 },
 "nbformat": 4,
 "nbformat_minor": 5
}
